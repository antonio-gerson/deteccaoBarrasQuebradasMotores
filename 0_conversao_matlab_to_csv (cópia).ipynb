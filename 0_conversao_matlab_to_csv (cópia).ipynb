{
 "cells": [
  {
   "cell_type": "markdown",
   "metadata": {},
   "source": [
    "### Detecção por Inteligência Artificial de Barras Quebradas em Rotores de Motores de Indução Trifásicos."
   ]
  },
  {
   "cell_type": "markdown",
   "metadata": {},
   "source": [
    "Objetivo do projeto - \n",
    "Baseado em conceitos de Data Science e IA desenvolver uma ferramenta de Manutenção Preditiva dedicada a diagnosticar barras quebradas em rotores de motores de indução trifásicos."
   ]
  },
  {
   "cell_type": "markdown",
   "metadata": {},
   "source": [
    "Link para o dataset:  https://ieee-dataport.org/open-access/experimental-database-detecting-and-diagnosing-rotor-broken-bar-three-phase-induction\n",
    "\n",
    "\n",
    "Introdução:\n",
    "\n",
    "O conjunto de dados contém sinais elétricos e mecânicos de experimentos em motores de indução trifásicos. Os ensaios experimentais foram realizados para diferentes cargas mecânicas no eixo do motor de indução e diferentes severidades de defeitos de barra quebrada no rotor do motor, incluindo dados referentes ao rotor sem defeitos. Dez repetições foram realizadas para cada condição experimental.\n",
    " \n",
    "A bancada experimental consiste em um motor de indução trifásico acoplado a uma máquina de corrente contínua, que funciona como um gerador simulando o torque de carga, conectado por um eixo contendo uma chave de torque rotativa.\n",
    "\n",
    "- Motor de Indução: 1cv, 220V/380V, 3.02A/1.75A, 4 pólos, 60 Hz, com o torque nominal de 4.1 Nm e uma velocidade nominal de 1715 rpm. O rotor é do tipo gaiola de esquilo composto por 34 barras.\n",
    "\n",
    "- Torque de carga: é ajustado variando a tensão do enrolamento de campo do gerador de corrente contínua. Um variador de tensão monofásico com um retificador de ponte completa filtrado é usado para esse propósito. Um motor de indução foi testado em 12,5, 25, 37,5, 50, 62,5, 75, 87,5 e 100% da carga total.\n",
    "\n",
    "- Barra do rotor quebrada: para simular a falha no rotor do motor de indução trifásico, foi necessário perfurar o rotor. As barras de rotor de ruptura são geralmente adjacentes à primeira barra de rotor, 4 rotores foram testados, o primeiro com uma barra de quebra, o segundo com duas barras quebradas adjacentes e assim por diante o rotor contendo quatro barras quebradas adjacentes.\n",
    "\n",
    "Condição de monitoramento:\n",
    "\n",
    "Todos os sinais foram amostrados ao mesmo tempo por 18 segundos para cada condição de carregamento e dez repetições foram realizadas do transiente para o estado estacionário do motor de indução.\n",
    "\n",
    "- Sinais mecânicos: foram utilizados cinco acelerômetros axiais simultaneamente, com sensibilidade de 10 mV/mm/s, faixa de frequência de 5 a 2.000 Hz e caixa de aço inoxidável, permitindo medições de vibração tanto na extremidade motriz (DE) quanto na extremidade não motriz (NDE) laterais do motor, axial ou radialmente, nas direções horizontal ou vertical.\n",
    "\n",
    "- Sinais elétricos: as correntes foram medidas por sondas de corrente alternada, que correspondem a medidores de precisão, com capacidade de até 50ARMS, com tensão de saída de 10 mV/A, correspondente ao modelo Yokogawa 96033. As tensões foram medidas diretamente nos terminais de indução usando pontos de tensão do osciloscópio e do fabricante Yokogawa.\n",
    "\n",
    "Visão geral do dataset:\n",
    "\n",
    "-         Tensão trifásica\n",
    "\n",
    "-         Corrente trifásica\n",
    "\n",
    "-         Cinco sinais de vibração\n",
    "\n",
    "Referências:\n",
    "\n",
    "O banco de dados foi adquirido no Laboratório de Automação Inteligente de Processos e Sistemas e no Laboratório de Controle Inteligente de Máquinas Elétricas da Escola de Engenharia de São Carlos da Universidade de São Paulo (USP), Brasil.\n",
    "            \n",
    "Aline Elly Treml, Rogério Andrade Flauzino, Marcelo Suetake, Narco Afonso Ravazzoli Maciejewski, September 15, 2020, \"Experimental database for detecting and diagnosing rotor broken bar in a three-phase induction motor.\", IEEE Dataport, doi: https://dx.doi.org/10.21227/fmnm-bn95."
   ]
  },
  {
   "cell_type": "markdown",
   "metadata": {},
   "source": [
    "Primeira etapa - Transformar os dados para o formato CSV.\n",
    "Link de referência: https://github.com/skjerns/mat7.3"
   ]
  },
  {
   "cell_type": "code",
   "execution_count": 1,
   "metadata": {
    "scrolled": true
   },
   "outputs": [],
   "source": [
    "# Importando as bibliotecas necessárias para a conversão dos dados\n",
    "import mat73\n",
    "import pandas as pd"
   ]
  },
  {
   "cell_type": "code",
   "execution_count": null,
   "metadata": {},
   "outputs": [],
   "source": [
    "# transformando os dados da pasta do rotor sem barras quebradas\n",
    "%%time\n",
    "data_dict = mat73.loadmat('banco de dados experimental/struct_rs_R1.mat')\n",
    "\n",
    "for i in data_dict['rs'].keys():\n",
    "    for ii in range(0,10):\n",
    "        nome = 'normal_'+str(i)+'_'+str(ii)\n",
    "        pd.DataFrame.from_dict(data_dict['rs'][i][ii], orient='index').T.to_csv('arquivos_csv_normal/'+nome+'.csv')"
   ]
  },
  {
   "cell_type": "code",
   "execution_count": null,
   "metadata": {},
   "outputs": [],
   "source": [
    "# transformando os dados da pasta do rotor com 1 barra quebrada\n",
    "\n",
    "%%time\n",
    "data_dict = mat73.loadmat('banco de dados experimental/struct_r1b_R1.mat')\n",
    "\n",
    "for i in data_dict['r1b'].keys():\n",
    "    for ii in range(0,1):\n",
    "        nome = 'barra_1_'+str(i)+'_'+str(ii)\n",
    "        pd.DataFrame.from_dict(data_dict['r1b'][i][ii], orient='index').T.to_csv('arquivos_csv_barra1/'+nome+'.csv')"
   ]
  },
  {
   "cell_type": "code",
   "execution_count": 4,
   "metadata": {},
   "outputs": [],
   "source": [
    "# transformando os dados da pasta do rotor com 2 barras quebradas\n",
    "\n",
    "%%time\n",
    "data_dict = mat73.loadmat('banco de dados experimental/struct_r2b_R1.mat')\n",
    "\n",
    "for i in data_dict['r2b'].keys():\n",
    "    for ii in range(0,1):\n",
    "        nome = 'barra_2_'+str(i)+'_'+str(ii)\n",
    "        pd.DataFrame.from_dict(data_dict['r2b'][i][ii], orient='index').T.to_csv('arquivos_csv_barra2/'+nome+'.csv')"
   ]
  },
  {
   "cell_type": "code",
   "execution_count": null,
   "metadata": {},
   "outputs": [],
   "source": [
    "# transformando os dados da pasta do rotor com 3 barras quebradas\n",
    "\n",
    "%%time\n",
    "data_dict = mat73.loadmat('banco de dados experimental/struct_r3b_R1.mat')\n",
    "\n",
    "for i in data_dict['r3b'].keys():\n",
    "    for ii in range(0,10):\n",
    "        nome = 'barra_3_'+str(i)+'_'+str(ii)\n",
    "        pd.DataFrame.from_dict(data_dict['r3b'][i][ii], orient='index').T.to_csv('arquivos_csv_barra3/'+nome+'.csv')"
   ]
  },
  {
   "cell_type": "code",
   "execution_count": 6,
   "metadata": {},
   "outputs": [],
   "source": [
    "# transformando os dados da pasta do rotor com 4 barras quebradas\n",
    "\n",
    "%%time\n",
    "data_dict = mat73.loadmat('banco de dados experimental/struct_r4b_R1.mat')\n",
    "\n",
    "for i in data_dict['r4b'].keys():\n",
    "    for ii in range(0,1):\n",
    "        nome = 'barra_4_'+str(i)+'_'+str(ii)\n",
    "        pd.DataFrame.from_dict(data_dict['r4b'][i][ii], orient='index').T.to_csv('arquivos_csv_barra4/'+nome+'.csv')"
   ]
  },
  {
   "cell_type": "markdown",
   "metadata": {},
   "source": [
    "Observação: A conversão dos dados gerou pastas para cada condição do rotor, ao todo foram cerca de 30GB em arquivos CSV."
   ]
  },
  {
   "cell_type": "markdown",
   "metadata": {},
   "source": [
    "Para trabalhar somente com o regime permanente de funcionamento do motor no ensaio, foi necessário realizar a \n",
    "limpeza dos dados após a transformada."
   ]
  },
  {
   "cell_type": "code",
   "execution_count": 7,
   "metadata": {},
   "outputs": [
    {
     "name": "stdout",
     "output_type": "stream",
     "text": [
      "arquivos_csv_barra1\n",
      "arquivos_csv_barra1\\barra_1_torque05_0.csv\n"
     ]
    },
    {
     "name": "stderr",
     "output_type": "stream",
     "text": [
      "C:\\ProgramData\\Anaconda3\\lib\\site-packages\\numpy\\lib\\arraysetops.py:580: FutureWarning: elementwise comparison failed; returning scalar instead, but in the future will perform elementwise comparison\n",
      "  mask |= (ar1 == a)\n"
     ]
    },
    {
     "name": "stdout",
     "output_type": "stream",
     "text": [
      "arquivos_csv_barra1\\barra_1_torque10_0.csv\n",
      "arquivos_csv_barra1\\barra_1_torque15_0.csv\n",
      "arquivos_csv_barra1\\barra_1_torque20_0.csv\n",
      "arquivos_csv_barra1\\barra_1_torque25_0.csv\n",
      "arquivos_csv_barra1\\barra_1_torque30_0.csv\n",
      "arquivos_csv_barra1\\barra_1_torque35_0.csv\n",
      "arquivos_csv_barra1\\barra_1_torque40_0.csv\n",
      "arquivos_csv_barra2\n",
      "arquivos_csv_barra2\\barra_2_torque05_0.csv\n",
      "arquivos_csv_barra2\\barra_2_torque10_0.csv\n",
      "arquivos_csv_barra2\\barra_2_torque15_0.csv\n",
      "arquivos_csv_barra2\\barra_2_torque20_0.csv\n",
      "arquivos_csv_barra2\\barra_2_torque25_0.csv\n",
      "arquivos_csv_barra2\\barra_2_torque30_0.csv\n",
      "arquivos_csv_barra2\\barra_2_torque35_0.csv\n",
      "arquivos_csv_barra2\\barra_2_torque40_0.csv\n",
      "arquivos_csv_barra3\n",
      "arquivos_csv_barra3\\barra_3_torque05_0.csv\n",
      "arquivos_csv_barra3\\barra_3_torque10_0.csv\n",
      "arquivos_csv_barra3\\barra_3_torque15_0.csv\n",
      "arquivos_csv_barra3\\barra_3_torque20_0.csv\n",
      "arquivos_csv_barra3\\barra_3_torque25_0.csv\n",
      "arquivos_csv_barra3\\barra_3_torque30_0.csv\n",
      "arquivos_csv_barra3\\barra_3_torque35_0.csv\n",
      "arquivos_csv_barra3\\barra_3_torque40_0.csv\n",
      "arquivos_csv_barra4\n",
      "arquivos_csv_barra4\\barra_4_torque05_0.csv\n",
      "arquivos_csv_barra4\\barra_4_torque10_0.csv\n",
      "arquivos_csv_barra4\\barra_4_torque15_0.csv\n",
      "arquivos_csv_barra4\\barra_4_torque20_0.csv\n",
      "arquivos_csv_barra4\\barra_4_torque25_0.csv\n",
      "arquivos_csv_barra4\\barra_4_torque30_0.csv\n",
      "arquivos_csv_barra4\\barra_4_torque35_0.csv\n",
      "arquivos_csv_barra4\\barra_4_torque40_0.csv\n",
      "arquivos_csv_normal\n",
      "arquivos_csv_normal\\normal_torque05_0.csv\n",
      "arquivos_csv_normal\\normal_torque10_0.csv\n",
      "arquivos_csv_normal\\normal_torque15_0.csv\n",
      "arquivos_csv_normal\\normal_torque20_0.csv\n",
      "arquivos_csv_normal\\normal_torque25_0.csv\n",
      "arquivos_csv_normal\\normal_torque30_0.csv\n",
      "arquivos_csv_normal\\normal_torque35_0.csv\n",
      "arquivos_csv_normal\\normal_torque40_0.csv\n"
     ]
    }
   ],
   "source": [
    "# O ponto de passagem completa do regime transitório para o permanente se dá a partir da linha 112500 de cada dataset\n",
    "# https://docs.python.org/3/library/glob.html\n",
    "# O pacote glob encontra todos os nomes de caminho que correspondem a um padrão especificado de acordo com as regras usadas pelo usuário.\n",
    "\n",
    "import glob\n",
    "for filename in glob.glob('*arquivos*'):\n",
    "    print(filename)\n",
    "    for arq in glob.glob(str(filename)+'/*'):\n",
    "        print(arq)\n",
    "        frame = pd.read_csv(arq, index_col=0)\n",
    "        frame = frame[112500:]\n",
    "        frame.to_csv(arq)"
   ]
  },
  {
   "cell_type": "markdown",
   "metadata": {},
   "source": [
    "Para continuar veja o jupyter 1_Verificando_Variaveis..."
   ]
  }
 ],
 "metadata": {
  "kernelspec": {
   "display_name": "Python 3",
   "language": "python",
   "name": "python3"
  },
  "language_info": {
   "codemirror_mode": {
    "name": "ipython",
    "version": 3
   },
   "file_extension": ".py",
   "mimetype": "text/x-python",
   "name": "python",
   "nbconvert_exporter": "python",
   "pygments_lexer": "ipython3",
   "version": "3.8.3"
  }
 },
 "nbformat": 4,
 "nbformat_minor": 4
}
